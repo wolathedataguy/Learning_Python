{
 "cells": [
  {
   "cell_type": "code",
   "execution_count": null,
   "metadata": {},
   "outputs": [],
   "source": [
    "import matplotlib.pyplot as plt"
   ]
  },
  {
   "cell_type": "code",
   "execution_count": null,
   "metadata": {},
   "outputs": [],
   "source": [
    "input_values = [1,2,3,4,5]\n",
    "squares = [1,4,9,16,25]\n",
    "plt.plot(input_values, squares, linewidth=5)\n",
    "\n",
    "#set the chart axis and labels\n",
    "plt.title(\"Square Numbers\", fontsize=24)\n",
    "plt.xlabel(\"Value\", fontsize=14)\n",
    "plt.ylabel(\"Square of Value\", fontsize=14)\n",
    "\n",
    "\n",
    "#Set size of the tick labels\n",
    "plt.tick_params(axis='both', labelsize= 14)\n",
    "\n",
    "plt.show()"
   ]
  },
  {
   "cell_type": "code",
   "execution_count": null,
   "metadata": {},
   "outputs": [],
   "source": [
    "plt.scatter(2, 4, s=200)\n",
    "\n",
    "#Set chart title and label axes\n",
    "\n",
    "plt.title(\"Square Numbers\", fontsize=24)\n",
    "plt.xlabel(\"Value\", fontsize=14)\n",
    "plt.ylabel(\"Square of Value\", fontsize=14)\n",
    "\n",
    "#Set size of tick labels.\n",
    "plt.tick_params(axis='both', which='major', labelsize=14)\n",
    "\n",
    "plt.show()"
   ]
  },
  {
   "cell_type": "code",
   "execution_count": null,
   "metadata": {},
   "outputs": [],
   "source": [
    "x_values = [1, 2, 3, 4, 5]\n",
    "y_values = [1, 4, 9, 16, 25]\n",
    "\n",
    "plt.scatter(x_values, y_values, s=100)\n",
    "\n",
    "plt.title(\"Square Numbers\", fontsize=24)\n",
    "plt.xlabel(\"Value\", fontsize=14)\n",
    "plt.ylabel(\"Square of Value\", fontsize=14)\n",
    "\n",
    "#Set size of tick labels.\n",
    "plt.tick_params(axis='both', which='major', labelsize=14)\n",
    "\n",
    "plt.show()"
   ]
  },
  {
   "cell_type": "code",
   "execution_count": null,
   "metadata": {},
   "outputs": [],
   "source": [
    "x_values = list(range(1,1001))\n",
    "y_values = [x**2 for x in x_values]\n",
    "\n",
    "#plt.scatter(x_values, y_values, s=5)\n",
    "plt.scatter(x_values, y_values, c='red', edgecolor='none', s=10)\n",
    "\n",
    "plt.title(\"Square Numbers\", fontsize=24)\n",
    "plt.xlabel(\"Value\", fontsize=14)\n",
    "plt.ylabel(\"Square of Value\", fontsize=14)\n",
    "\n",
    "#Set size of tick labels.\n",
    "plt.tick_params(axis='both', which='major', labelsize=14)\n",
    "\n",
    "# Set the range for each axis.\n",
    "plt.axis([0, 1100, 0, 1100000])\n",
    "\n",
    "plt.show()\n"
   ]
  },
  {
   "cell_type": "code",
   "execution_count": null,
   "metadata": {},
   "outputs": [],
   "source": [
    "x_values = list(range(1,1001))\n",
    "y_values = [x**2 for x in x_values]\n",
    "\n",
    "#plt.scatter(x_values, y_values, s=5)\n",
    "plt.scatter(x_values, y_values, c=y_values, cmap=plt.cm.Blues, edgecolor='none', s=10)\n",
    "\n",
    "plt.title(\"Square Numbers\", fontsize=24)\n",
    "plt.xlabel(\"Value\", fontsize=14)\n",
    "plt.ylabel(\"Square of Value\", fontsize=14)\n",
    "\n",
    "#Set size of tick labels.\n",
    "plt.tick_params(axis='both', which='major', labelsize=14)\n",
    "\n",
    "# Set the range for each axis.\n",
    "plt.axis([0, 1100, 0, 1100000])\n",
    "\n",
    "\n",
    "plt.savefig('Square_plot.png', bbox_inches='tight')\n",
    "plt.show()"
   ]
  },
  {
   "cell_type": "markdown",
   "metadata": {},
   "source": [
    "### Cubes:\n"
   ]
  },
  {
   "cell_type": "code",
   "execution_count": null,
   "metadata": {},
   "outputs": [],
   "source": []
  }
 ],
 "metadata": {
  "kernelspec": {
   "display_name": ".venv",
   "language": "python",
   "name": "python3"
  },
  "language_info": {
   "codemirror_mode": {
    "name": "ipython",
    "version": 3
   },
   "file_extension": ".py",
   "mimetype": "text/x-python",
   "name": "python",
   "nbconvert_exporter": "python",
   "pygments_lexer": "ipython3",
   "version": "3.11.4"
  }
 },
 "nbformat": 4,
 "nbformat_minor": 2
}
